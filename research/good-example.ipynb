{
 "cells": [
  {
   "cell_type": "code",
   "execution_count": null,
   "id": "6ad89a8c",
   "metadata": {},
   "outputs": [],
   "source": [
    " \n",
    "for col in ['A', 'B', 'C', 'D', 'E', 'F', 'G', 'H', 'I', 'J', 'K', 'L', 'M', 'N']:\n",
    "\n",
    "    for window in [3, 7, 14]:\n",
    "        df[f'{col}_rolling_mean_{window}'] = df[col].rolling(window=window).mean()\n",
    "        df[f'{col}_rolling_std_{window}'] = df[col].rolling(window=window).std()\n",
    "        # df[f'{col}_rolling_lead_std_{window}']  = df[col][::-1].rolling(window=window).std()[::-1]\n",
    "        # df[f'{col}_rolling_lead_skew_{window}'] = df[col][::-1].rolling(window=window).skew()[::-1]\n",
    "\n",
    "    df[f'{col}_rolling_mean_3_lead'] = df[col][::-1].rolling(window=3).mean()[::-1]\n",
    "    df[f'{col}_rolling_std_3_lead']  = df[col][::-1].rolling(window=3).std()[::-1]\n",
    "    df[f'{col}_rolling_mean_7_lead'] = df[col][::-1].rolling(window=7).mean()[::-1]\n",
    "    df[f'{col}_rolling_std_7_lead']  = df[col][::-1].rolling(window=7).std()[::-1]\n",
    "for col in ['A', 'B', 'C', 'D', 'E', 'F', 'G', 'H', 'I', 'J', 'K', 'L', 'M', 'N']:\n",
    "    for span in [5, 10]:\n",
    "        df[f'{col}_ema_{span}'] = df[col].ewm(span=span).mean()\n",
    "        df[f'{col}_ema_{span}_lead'] = df[col][::-1].ewm(span=span, adjust=False).mean()[::-1]"
   ]
  },
  {
   "cell_type": "markdown",
   "id": "c7e523ad",
   "metadata": {},
   "source": [
    "use rolling features and EWMA to columns, mainly mean and std\n",
    "- uses 3, 7, 14 for lookback amounts (days), short-term, weekly, biweekly\n",
    "- 3 captures short-term volatility\n",
    "\n",
    "- rolling mean 3 lead looks forward in time, then flipped back to align with the original order\n",
    "- this is usually data leakage if used for prediction, sometimes allowed for smoothing\n",
    "\n",
    "- EMA calculated in the same way as rolling features"
   ]
  },
  {
   "cell_type": "code",
   "execution_count": null,
   "id": "c1e22d9a",
   "metadata": {},
   "outputs": [],
   "source": [
    "lgb_model_y1 = lgb.LGBMRegressor(n_estimators=1500, learning_rate=0.03, max_depth=-1, n_jobs=-1, random_state=42)\n",
    "lgb_model_y2 = lgb.LGBMRegressor(n_estimators=1500, learning_rate=0.03, max_depth=-1, n_jobs=-1, random_state=42)\n",
    "\n",
    "xgb_model_y1 = xgb.XGBRegressor(n_estimators=1500, learning_rate=0.03, max_depth=6, tree_method='hist', n_jobs=-1, random_state=42, objective='reg:squarederror')\n",
    "xgb_model_y2 = xgb.XGBRegressor(n_estimators=1500, learning_rate=0.03, max_depth=6, tree_method='hist', n_jobs=-1, random_state=42, objective='reg:squarederror')\n",
    "\n",
    "cat_model_y1 = CatBoostRegressor(iterations=1500, learning_rate=0.03, depth=6, loss_function='RMSE', random_seed=42, task_type='CPU', verbose=False)\n",
    "cat_model_y2 = CatBoostRegressor(iterations=1500, learning_rate=0.03, depth=6, loss_function='RMSE', random_seed=42, task_type='CPU', verbose=False)"
   ]
  }
 ],
 "metadata": {
  "language_info": {
   "name": "python"
  }
 },
 "nbformat": 4,
 "nbformat_minor": 5
}
